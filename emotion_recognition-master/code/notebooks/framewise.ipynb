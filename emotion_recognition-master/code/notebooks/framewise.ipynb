{
 "cells": [
  {
   "cell_type": "code",
   "execution_count": 1,
   "metadata": {
    "collapsed": false
   },
   "outputs": [],
   "source": [
    "import os\n",
    "import sys\n",
    "import csv\n",
    "import wave\n",
    "import copy\n",
    "import math\n",
    "import json\n",
    "from collections import Counter\n",
    "\n",
    "import numpy as np\n",
    "import pandas as pd\n",
    "\n",
    "from sklearn.preprocessing import label_binarize\n",
    "from sklearn.cross_validation import StratifiedKFold, KFold, train_test_split\n",
    "from sklearn.svm import OneClassSVM, SVC\n",
    "from sklearn.ensemble import RandomForestClassifier\n",
    "from sklearn.grid_search import GridSearchCV\n",
    "from sklearn.manifold import TSNE\n",
    "from sklearn.decomposition import PCA\n",
    "from sklearn.metrics import confusion_matrix\n",
    "from sklearn.multiclass import OneVsRestClassifier\n",
    "\n",
    "sys.path.append(\"../\")\n",
    "from utilities.utils import *\n",
    "\n",
    "import matplotlib\n",
    "import matplotlib.pyplot as plt\n",
    "import matplotlib.ticker as ticker\n",
    "%matplotlib inline\n",
    "\n",
    "from IPython.display import clear_output"
   ]
  },
  {
   "cell_type": "code",
   "execution_count": 2,
   "metadata": {
    "collapsed": false
   },
   "outputs": [],
   "source": [
    "params = Constants()\n",
    "print(params)"
   ]
  },
  {
   "cell_type": "markdown",
   "metadata": {},
   "source": [
    "# Feature calculation"
   ]
  },
  {
   "cell_type": "code",
   "execution_count": 3,
   "metadata": {
    "collapsed": false
   },
   "outputs": [],
   "source": [
    "data = read_iemocap_data()"
   ]
  },
  {
   "cell_type": "code",
   "execution_count": null,
   "metadata": {
    "collapsed": true
   },
   "outputs": [],
   "source": [
    "get_features(data, params)"
   ]
  },
  {
   "cell_type": "markdown",
   "metadata": {},
   "source": [
    "# Data preparation"
   ]
  },
  {
   "cell_type": "code",
   "execution_count": null,
   "metadata": {
    "collapsed": true
   },
   "outputs": [],
   "source": [
    "X, y , _ = get_sample(ids)"
   ]
  },
  {
   "cell_type": "code",
   "execution_count": null,
   "metadata": {
    "collapsed": true
   },
   "outputs": [],
   "source": [
    "train_idx, val_idx = train_test_split(X.shape[0], test_size=0.2)"
   ]
  },
  {
   "cell_type": "code",
   "execution_count": null,
   "metadata": {
    "collapsed": true
   },
   "outputs": [],
   "source": [
    "X_train, X_val = X[train_idx], X[val_idx]\n",
    "y_train, y_val = y[train_idx], y[val_idx]"
   ]
  },
  {
   "cell_type": "code",
   "execution_count": null,
   "metadata": {
    "collapsed": true
   },
   "outputs": [],
   "source": [
    "frames_from_utterance = 2"
   ]
  },
  {
   "cell_type": "code",
   "execution_count": null,
   "metadata": {
    "collapsed": true
   },
   "outputs": [],
   "source": [
    "X_train_flattened = X_train[0][X_train[0][:,1].argsort()][::-1][:frames_from_utterance]\n",
    "appended = X_train_flattened.shape[0]\n",
    "y_train_flattened = np.array([y_train[0]]*appended)\n",
    "for utt in range(1, len(X_train)):\n",
    "    appended = X_train_flattened.shape[0]\n",
    "    X_train_flattened = np.append(X_train_flattened, \n",
    "                                  X_train[utt][X_train[utt][:,1].argsort()][::-1]\\\n",
    "                                  [:frames_from_utterance], \n",
    "                                  axis=0)\n",
    "    appended = X_train_flattened.shape[0] - appended\n",
    "    y_train_flattened = np.append(y_train_flattened,\n",
    "                                  [y_train[utt]]*appended, \n",
    "                                  axis=0)\n",
    "y_train_binary = copy.deepcopy(y_train_flattened)\n",
    "y_train_binary = np.argmax(to_categorical(y_train_binary), axis=1)\n",
    "y_test_binary = np.argmax(to_categorical(y_val), axis=1)"
   ]
  },
  {
   "cell_type": "markdown",
   "metadata": {},
   "source": [
    "# MultiClass Probability RFC"
   ]
  },
  {
   "cell_type": "code",
   "execution_count": 18,
   "metadata": {
    "collapsed": false
   },
   "outputs": [
    {
     "name": "stdout",
     "output_type": "stream",
     "text": [
      "2\n",
      "3\n",
      "4\n",
      "5\n",
      "6\n"
     ]
    }
   ],
   "source": [
    "clf = RandomForestClassifier(n_estimators=1000,\n",
    "                             class_weight=\"balanced\")\n",
    "clf.fit(X_train_flattened, y_train_binary)\n",
    "\n",
    "preds = [clf.predict_proba(X_val[0])]\n",
    "for utt in range(1, len(X_val)):\n",
    "    preds.append(clf.predict_proba(X_val[utt]))\n",
    "\n",
    "a = []\n",
    "for i in preds:\n",
    "    a.append(Counter(np.argmax(i, axis=1)).most_common(1)[0][0])\n",
    "\n",
    "WA = weighted_accuracy(y_test_binary, a)\n",
    "UA = unweighted_accuracy(y_test_binary, a)"
   ]
  }
 ],
 "metadata": {
  "anaconda-cloud": {},
  "kernelspec": {
   "display_name": "Python [conda root]",
   "language": "python",
   "name": "conda-root-py"
  },
  "language_info": {
   "codemirror_mode": {
    "name": "ipython",
    "version": 2
   },
   "file_extension": ".py",
   "mimetype": "text/x-python",
   "name": "python",
   "nbconvert_exporter": "python",
   "pygments_lexer": "ipython2",
   "version": "2.7.12"
  }
 },
 "nbformat": 4,
 "nbformat_minor": 0
}
